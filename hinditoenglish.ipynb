{
 "cells": [
  {
   "cell_type": "code",
   "execution_count": 14,
   "metadata": {},
   "outputs": [],
   "source": [
    "import wikipediaapi\n",
    "import pandas as pd\n",
    "\n",
    "\n"
   ]
  },
  {
   "cell_type": "code",
   "execution_count": 29,
   "metadata": {},
   "outputs": [],
   "source": [
    "wiki_wiki = wikipediaapi.Wikipedia('hi')\n",
    "page_py = wiki_wiki.page('ब्रिटेन')\n",
    "\n",
    "body = page_py.text.replace('\\n', '').replace('==', '').replace('\\u200d', '').replace('।', '')\n"
   ]
  },
  {
   "cell_type": "code",
   "execution_count": 30,
   "metadata": {},
   "outputs": [],
   "source": [
    "def print_langlinks(page):\n",
    "        langlinks = page.langlinks\n",
    "        \n",
    "        for k in sorted(langlinks.keys()):\n",
    "            v = langlinks[k]\n",
    "            if(v.language=='en'):\n",
    "                return v.title\n",
    "            \n",
    "        return \"Page does not exist\"\n",
    "\n"
   ]
  },
  {
   "cell_type": "code",
   "execution_count": 31,
   "metadata": {},
   "outputs": [],
   "source": [
    "def print_links(page,body):\n",
    "    links=[]\n",
    "    for link in page.links:\n",
    "        if body.find(link) != -1:\n",
    "            links.append(link)\n",
    "\n",
    "    return links\n",
    "link_list=print_links(page_py,body)"
   ]
  },
  {
   "cell_type": "code",
   "execution_count": 32,
   "metadata": {},
   "outputs": [],
   "source": [
    "def word_list(page):\n",
    "    x=[]\n",
    "    for page in link_list:\n",
    "        page_1 = wiki_wiki.page(page)\n",
    "        y=print_langlinks(page_1)\n",
    "        \n",
    "        x.append([page,y])\n",
    "    return x\n",
    "\n"
   ]
  },
  {
   "cell_type": "code",
   "execution_count": 33,
   "metadata": {},
   "outputs": [],
   "source": [
    "list=word_list(link_list)\n",
    "df=pd.DataFrame(list)"
   ]
  },
  {
   "cell_type": "code",
   "execution_count": 34,
   "metadata": {},
   "outputs": [
    {
     "data": {
      "text/html": [
       "<div>\n",
       "<style scoped>\n",
       "    .dataframe tbody tr th:only-of-type {\n",
       "        vertical-align: middle;\n",
       "    }\n",
       "\n",
       "    .dataframe tbody tr th {\n",
       "        vertical-align: top;\n",
       "    }\n",
       "\n",
       "    .dataframe thead th {\n",
       "        text-align: right;\n",
       "    }\n",
       "</style>\n",
       "<table border=\"1\" class=\"dataframe\">\n",
       "  <thead>\n",
       "    <tr style=\"text-align: right;\">\n",
       "      <th></th>\n",
       "      <th>0</th>\n",
       "      <th>1</th>\n",
       "    </tr>\n",
       "  </thead>\n",
       "  <tbody>\n",
       "    <tr>\n",
       "      <th>0</th>\n",
       "      <td>इंग्लैंड</td>\n",
       "      <td>England</td>\n",
       "    </tr>\n",
       "    <tr>\n",
       "      <th>1</th>\n",
       "      <td>ग्रेट ब्रिटेन</td>\n",
       "      <td>Great Britain</td>\n",
       "    </tr>\n",
       "    <tr>\n",
       "      <th>2</th>\n",
       "      <td>ग्रेट ब्रिटेन और आयरलैंड का यूनाइटेड किंगडम</td>\n",
       "      <td>United Kingdom of Great Britain and Ireland</td>\n",
       "    </tr>\n",
       "    <tr>\n",
       "      <th>3</th>\n",
       "      <td>ग्रेट ब्रिटेन राजशाही</td>\n",
       "      <td>Kingdom of Great Britain</td>\n",
       "    </tr>\n",
       "    <tr>\n",
       "      <th>4</th>\n",
       "      <td>ब्रिटेन (शब्द)</td>\n",
       "      <td>Page does not exist</td>\n",
       "    </tr>\n",
       "    <tr>\n",
       "      <th>5</th>\n",
       "      <td>यूनाइटेड किंगडम</td>\n",
       "      <td>European Charter for Regional or Minority Lang...</td>\n",
       "    </tr>\n",
       "    <tr>\n",
       "      <th>6</th>\n",
       "      <td>वेल्स</td>\n",
       "      <td>Wales</td>\n",
       "    </tr>\n",
       "    <tr>\n",
       "      <th>7</th>\n",
       "      <td>स्कॉटलैंड</td>\n",
       "      <td>Scotland</td>\n",
       "    </tr>\n",
       "  </tbody>\n",
       "</table>\n",
       "</div>"
      ],
      "text/plain": [
       "                                             0  \\\n",
       "0                                     इंग्लैंड   \n",
       "1                                ग्रेट ब्रिटेन   \n",
       "2  ग्रेट ब्रिटेन और आयरलैंड का यूनाइटेड किंगडम   \n",
       "3                        ग्रेट ब्रिटेन राजशाही   \n",
       "4                               ब्रिटेन (शब्द)   \n",
       "5                              यूनाइटेड किंगडम   \n",
       "6                                        वेल्स   \n",
       "7                                    स्कॉटलैंड   \n",
       "\n",
       "                                                   1  \n",
       "0                                            England  \n",
       "1                                      Great Britain  \n",
       "2        United Kingdom of Great Britain and Ireland  \n",
       "3                           Kingdom of Great Britain  \n",
       "4                                Page does not exist  \n",
       "5  European Charter for Regional or Minority Lang...  \n",
       "6                                              Wales  \n",
       "7                                           Scotland  "
      ]
     },
     "execution_count": 34,
     "metadata": {},
     "output_type": "execute_result"
    }
   ],
   "source": [
    "df"
   ]
  },
  {
   "cell_type": "code",
   "execution_count": null,
   "metadata": {},
   "outputs": [],
   "source": []
  }
 ],
 "metadata": {
  "kernelspec": {
   "display_name": "Python 3",
   "language": "python",
   "name": "python3"
  },
  "language_info": {
   "codemirror_mode": {
    "name": "ipython",
    "version": 3
   },
   "file_extension": ".py",
   "mimetype": "text/x-python",
   "name": "python",
   "nbconvert_exporter": "python",
   "pygments_lexer": "ipython3",
   "version": "3.8.1"
  }
 },
 "nbformat": 4,
 "nbformat_minor": 4
}
