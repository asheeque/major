{
 "cells": [
  {
   "cell_type": "code",
   "execution_count": 62,
   "metadata": {},
   "outputs": [],
   "source": [
    "import wikipedia"
   ]
  },
  {
   "cell_type": "code",
   "execution_count": 63,
   "metadata": {},
   "outputs": [],
   "source": [
    "wikipedia.set_lang('hi')\n",
    "page = wikipedia.page('ईस्ट इण्डिया कम्पनी')"
   ]
  },
  {
   "cell_type": "code",
   "execution_count": 64,
   "metadata": {
    "scrolled": true
   },
   "outputs": [
    {
     "name": "stdout",
     "output_type": "stream",
     "text": [
      "ब्रिटिश ईस्ट इंडिया कंपनी की स्थापना 31 दिसम्बर 1600 ईस्वी में हुई थी इसे यदाकदा जॉन कंपनी के नाम से भी जाना जाता था इसे ब्रिटेन की महारानी ने भारत के साथ व्यापार करने के लिये 21 सालो तक की छूट दे दी बाद में कम्पनी ने भारत के लगभग सभी क्षेत्रों पर अपना सैनिक तथा प्रशासनिक अधिपत्य जमा लिया 1858 में इसका विलय हो गयाउसके बाद भारत मे ब्रिटिश राज का राज हो गया इन्हें भी देखें डच ईस्ट इण्डिया कम्पनीफ्रांसीसी ईस्ट इंडिया कंपनीकंपनी राज सन्दर्भ  बाहरी कड़ियाँ ईस्ट इंडिया कंपनी, उसका इतिहास और परिणाम (कार्ल मार्क्स, १८५३)ईस्ट इंडिया कंपनी पर भी लहराया तिरंगा (स्वतन्त्र आवाज)भारत लौट रही है ईस्ट इंडिया कंपनी (डी दब्ल्यू वर्ड)सलाम कीजिए संजीव मेहता को जिन्होंने खरीदी है ईस्ट इंडिया कंपनी (हिन्दी वन इण्डिया)\n"
     ]
    }
   ],
   "source": [
    "body = page.content.replace('\\n', '').replace('==', '').replace('\\u200d', '').replace('।', '')\n",
    "print(body)"
   ]
  },
  {
   "cell_type": "code",
   "execution_count": 65,
   "metadata": {},
   "outputs": [
    {
     "data": {
      "text/plain": [
       "['इतिहास',\n",
       " 'कंपनी राज',\n",
       " 'डच ईस्ट इण्डिया कम्पनी',\n",
       " 'फ्रांसीसी ईस्ट इंडिया कंपनी',\n",
       " 'ब्रिटिश राज',\n",
       " 'ब्रिटेन',\n",
       " 'भारत']"
      ]
     },
     "execution_count": 65,
     "metadata": {},
     "output_type": "execute_result"
    }
   ],
   "source": [
    "links = []\n",
    "\n",
    "for link in page.links:\n",
    "    if body.find(link) != -1:\n",
    "        links.append(link)\n",
    "\n",
    "links"
   ]
  }
 ],
 "metadata": {
  "kernelspec": {
   "display_name": "Python 3",
   "language": "python",
   "name": "python3"
  },
  "language_info": {
   "codemirror_mode": {
    "name": "ipython",
    "version": 3
   },
   "file_extension": ".py",
   "mimetype": "text/x-python",
   "name": "python",
   "nbconvert_exporter": "python",
   "pygments_lexer": "ipython3",
   "version": "3.8.1"
  }
 },
 "nbformat": 4,
 "nbformat_minor": 4
}
